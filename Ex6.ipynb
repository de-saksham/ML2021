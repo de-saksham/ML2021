{
  "nbformat": 4,
  "nbformat_minor": 0,
  "metadata": {
    "colab": {
      "name": "Ex6.ipynb",
      "provenance": [],
      "authorship_tag": "ABX9TyPJqUz5LwoJuDOt2zFHRJJ/",
      "include_colab_link": true
    },
    "kernelspec": {
      "name": "python3",
      "display_name": "Python 3"
    }
  },
  "cells": [
    {
      "cell_type": "markdown",
      "metadata": {
        "id": "view-in-github",
        "colab_type": "text"
      },
      "source": [
        "<a href=\"https://colab.research.google.com/github/de-saksham/ML2021/blob/main/Ex6.ipynb\" target=\"_parent\"><img src=\"https://colab.research.google.com/assets/colab-badge.svg\" alt=\"Open In Colab\"/></a>"
      ]
    },
    {
      "cell_type": "code",
      "metadata": {
        "id": "WZLQmgILuPc0",
        "colab": {
          "base_uri": "https://localhost:8080/"
        },
        "outputId": "a7a23953-8f18-4e66-977b-75ee4798d97f"
      },
      "source": [
        "#5. Gradient Descent\r\n",
        "\r\n",
        "import numpy as np\r\n",
        "import tensorflow as tf\r\n",
        "\r\n",
        "def f(x):\r\n",
        "    return x[0]**2 + 2*x[1]**2\r\n",
        "\r\n",
        "def gradf(x):\r\n",
        "    x1 = 2*x[0]\r\n",
        "    x2 = 4*x[1]\r\n",
        "    return x1, x2\r\n",
        "    \r\n",
        "eps = np.array([0.1])\r\n",
        "x = np.array([1., 3.])\r\n",
        "\r\n",
        "for i in range(1, 5):\r\n",
        "    x -= eps*gradf(x)\r\n",
        "    print(x)\r\n",
        "    print(f'f(x{str(i)})', f(x))\r\n",
        "    "
      ],
      "execution_count": 1,
      "outputs": [
        {
          "output_type": "stream",
          "text": [
            "[0.8 1.8]\n",
            "f(x1) 7.119999999999999\n",
            "[0.64 1.08]\n",
            "f(x2) 2.7423999999999995\n",
            "[0.512 0.648]\n",
            "f(x3) 1.1019519999999998\n",
            "[0.4096 0.3888]\n",
            "f(x4) 0.47010303999999986\n"
          ],
          "name": "stdout"
        }
      ]
    },
    {
      "cell_type": "code",
      "metadata": {
        "colab": {
          "base_uri": "https://localhost:8080/"
        },
        "id": "BQ6p77ejdO1f",
        "outputId": "2915f34e-0326-4c6e-fe64-8be28ccd550f"
      },
      "source": [
        "def f_tf(x):\r\n",
        "    x1 = tf.pow(x[0], 2)\r\n",
        "    x2 = 2*(tf.pow(x[1], 2))\r\n",
        "    return tf.reduce_sum([x1,x2])\r\n",
        "\r\n",
        "def gradf_tf(x):\r\n",
        "    x = tf.Variable(initial_value=x, dtype=tf.float64)\r\n",
        "    with tf.GradientTape() as gt:\r\n",
        "        y = f_tf(x)\r\n",
        "    return gt.gradient(y, x)\r\n",
        "\r\n",
        "eps = tf.constant([0.1], dtype = tf.float64)\r\n",
        "x = tf.constant([1., 3.], dtype = tf.float64)\r\n",
        "\r\n",
        "for i in range(1, 5):\r\n",
        "    x -= eps*gradf_tf(x)\r\n",
        "    print(x.numpy())\r\n",
        "    print(f'f(x{str(i)})', f_tf(x).numpy())\r\n",
        "    "
      ],
      "execution_count": 2,
      "outputs": [
        {
          "output_type": "stream",
          "text": [
            "[0.8 1.8]\n",
            "f(x1) 7.119999999999999\n",
            "[0.64 1.08]\n",
            "f(x2) 2.7423999999999995\n",
            "[0.512 0.648]\n",
            "f(x3) 1.1019519999999998\n",
            "[0.4096 0.3888]\n",
            "f(x4) 0.47010303999999986\n"
          ],
          "name": "stdout"
        }
      ]
    }
  ]
}