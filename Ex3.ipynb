{
  "nbformat": 4,
  "nbformat_minor": 0,
  "metadata": {
    "colab": {
      "name": "Ex3.ipynb",
      "provenance": [],
      "authorship_tag": "ABX9TyNSILuG9a+jNtmf/7ULZXhg"
    },
    "kernelspec": {
      "name": "python3",
      "display_name": "Python 3"
    }
  },
  "cells": [
    {
      "cell_type": "code",
      "metadata": {
        "id": "PHHvA4FJ2VpG"
      },
      "source": [
        "import numpy as np\r\n",
        "\r\n",
        "#Array Creation\r\n",
        "\r\n",
        "#a\r\n",
        "x1a = np.arange(0, 100, 2)\r\n",
        "#print(x1a)\r\n",
        "\r\n",
        "#b\r\n",
        "x1b = np.ones([3, 3])\r\n",
        "arr2d = x1b * np.array([1,2,3]).reshape(3,1)\r\n",
        "#print(arr2d)\r\n",
        "\r\n",
        "#c\r\n",
        "x1c = np.ones([3, 5])\r\n",
        "ar55 = x1c*55\r\n",
        "#print(ar55)\r\n",
        "\r\n",
        "#d\r\n",
        "x1d = np.random.uniform(0, 1, [5,4,3])\r\n",
        "#print(x1d)\r\n",
        "\r\n"
      ],
      "execution_count": 86,
      "outputs": []
    },
    {
      "cell_type": "code",
      "metadata": {
        "id": "vvQEyur05jpt"
      },
      "source": [
        "#numpy basics and slicing\r\n",
        "\r\n",
        "traind = np.random.randint(0,255,[2000,20,20])\r\n",
        "test = np.arange(0, 600, 2).reshape(2,10, 15)\r\n",
        "\r\n",
        "#a\r\n",
        "x2a = traind[999]\r\n",
        "#print(x2a)\r\n",
        "\r\n",
        "#b\r\n",
        "x2b = traind[999]\r\n",
        "# # x2b[:,0:5] = 0\r\n",
        "# # x2b[:,-5::] = 0\r\n",
        "# print(x2b)\r\n",
        "\r\n",
        "#c\r\n",
        "sample10 = traind[9]\r\n",
        "x2c = sample10.min()\r\n",
        "x2cb = sample10.max()\r\n",
        "# print(x2c, x2cb)\r\n",
        "\r\n",
        "#d\r\n",
        "sample10 = traind[9]\r\n",
        "ev2row = sample10[::2]\r\n",
        "ev2col = sample10[:,::2]\r\n",
        "inverse = sample10[::-1, ::-1]         # for all\r\n",
        "inv = sample10[8::-1, 8::-1]           # with range\r\n",
        "inverse2 = sample10[::-2, ::-2]\r\n",
        "# print(inverse)\r\n",
        "# print('--------------------')\r\n",
        "# print(inv)\r\n",
        "\r\n",
        "#f\r\n",
        "traind *= -1 ; # - traind\r\n"
        "traind += 1; # - traind + 1 = 1-traind\r\n",
        "# print(traind)\r\n",
        "\r\n"
      ],
      "execution_count": 98,
      "outputs": []
    },
    {
      "cell_type": "code",
      "metadata": {
        "colab": {
          "base_uri": "https://localhost:8080/"
        },
        "id": "SKDQjOAIEp7v",
        "outputId": "af8c2839-81f9-4f70-84b9-e7d9ad7220c7"
      },
      "source": [
        "# Reduction\r\n",
        "\r\n",
        "#a\r\n",
        "x3a = traind[:,0,0].sum()\r\n",
        "print(x3a)\r\n",
        "\r\n",
        "#b\r\n",
        "x3b = traind[:,0,0].mean()\r\n",
        "print(x3b)\r\n",
        "\r\n",
        "#c\r\n",
        "x3c = traind.mean(axis=0)\r\n",
        "#print(x3c)\r\n",
        "\r\n",
        "#d\r\n",
        "x3d = traind.max(axis=2)\r\n",
        "#print(x3d)\r\n",
        "\r\n",
        "#e\r\n",
        "x3d = traind.sum(axis=2)\r\n",
        "#print(x3d)"
      ],
      "execution_count": 115,
      "outputs": [
        {
          "output_type": "stream",
          "text": [
            "256943\n",
            "128.4715\n"
          ],
          "name": "stdout"
        }
      ]
    },
    {
      "cell_type": "code",
      "metadata": {
        "id": "m5fQjV7xK0Nh"
      },
      "source": [
        "#Broadcasting\r\n",
        "\r\n",
        "#a\r\n",
        "x4a = np.arange(1,21).reshape(1, 1, 20)\r\n",
        "broad = traind + x4a\r\n",
        "#print(broad)\r\n",
        "\r\n",
        "#b\r\n",
        "x4b = np.arange(1,21).reshape(1,20,1)\r\n",
        "broad1 = traind + x4b\r\n",
        "#print(broad1)\r\n",
        "\r\n",
        "#c\r\n",
        "sample0 = traind[0].reshape(1,20,20)\r\n",
        "broad3 = traind + sample10\r\n",
        "#print(broad3)"
      ],
      "execution_count": 128,
      "outputs": []
    },
    {
      "cell_type": "code",
      "metadata": {
        "colab": {
          "base_uri": "https://localhost:8080/"
        },
        "id": "uysMKncqMn5x",
        "outputId": "772578f3-f97d-481a-d400-7e49561b8fd0"
      },
      "source": [
        "# Fancy indexing and mask indexing\r\n",
        "\r\n",
        "#a\r\n",
        "x5a = np.arange(1,21)\r\n",
        "mask = x5a < 10\r\n",
        "print(x5a[mask])\r\n",
        "\r\n",
        "#b\r\n",
        "x5b = np.arange(1, 21)\r\n",
        "ind = np.array([0,4,18])\r\n",
        "x5b[ind] = 0\r\n",
        "print(x5b)\r\n",
        "\r\n"
      ],
      "execution_count": 147,
      "outputs": [
        {
          "output_type": "stream",
          "text": [
            "[1 2 3 4 5 6 7 8 9]\n",
            "[ 0  2  3  4  0  6  7  8  9 10 11 12 13 14 15 16 17 18  0 20]\n"
          ],
          "name": "stdout"
        }
      ]
    }
  ]
}
