{
  "nbformat": 4,
  "nbformat_minor": 0,
  "metadata": {
    "colab": {
      "name": "Ex2.ipynb",
      "provenance": [],
      "collapsed_sections": [],
      "authorship_tag": "ABX9TyMGy6UwFFr19pHmjUHmxelt"
    },
    "kernelspec": {
      "name": "python3",
      "display_name": "Python 3"
    }
  },
  "cells": [
    {
      "cell_type": "code",
      "metadata": {
        "colab": {
          "base_uri": "https://localhost:8080/"
        },
        "id": "sdOrSSvt8_8n",
        "outputId": "72273a46-48c2-4957-dee2-9bcabf037060"
      },
      "source": [
        "#1 Functions - Factorial\r\n",
        "import numpy as np\r\n",
        "\r\n",
        "def fak(x):\r\n",
        "  if x == 0:\r\n",
        "    return 1\r\n",
        "  else:\r\n",
        "    return x*fak(x-1)\r\n",
        "\r\n",
        "arg = np.arange(1, 7)\r\n",
        "for i in arg:\r\n",
        "  print(fak(i))\r\n"
      ],
      "execution_count": 1,
      "outputs": [
        {
          "output_type": "stream",
          "text": [
            "1\n",
            "2\n",
            "6\n",
            "24\n",
            "120\n",
            "720\n"
          ],
          "name": "stdout"
        }
      ]
    },
    {
      "cell_type": "code",
      "metadata": {
        "colab": {
          "base_uri": "https://localhost:8080/"
        },
        "id": "gmac9XWS-B0K",
        "outputId": "1200a8ae-3136-4c3c-bfea-f25c5eff1f85"
      },
      "source": [
        "#2 List Creation\r\n",
        "\r\n",
        "#a \r\n",
        "x1 = [i for i in range(0,10) if i%2 == 0]\r\n",
        "print(x1)\r\n",
        "\r\n",
        "#b\r\n",
        "x2 = [i for i in range(0,100) if i%15 == 0]\r\n",
        "print(x2)\r\n",
        "\r\n",
        "#c\r\n",
        "x3 = [i for i in range(15, 0, -1) if i%2 != 0]\r\n",
        "print(x3)\r\n",
        "\r\n",
        "#d\r\n",
        "x4 = [\"xx\" for i in range(0,5)]\r\n",
        "print(x4)\r\n",
        "\r\n",
        "#e\r\n",
        "x5 = [\"string\"+ str(i) for i in range(5, 0, -1)]\r\n",
        "print(x5)\r\n",
        "\r\n",
        "#f \r\n",
        "x6 = [\"1\", 2, 3.0, 4]\r\n",
        "print(x6)\r\n",
        "\r\n",
        "#g\r\n",
        "x7 = [i for i in range(0, 100) if str(i).find(\"3\") != -1]\r\n",
        "print(x7)"
      ],
      "execution_count": null,
      "outputs": [
        {
          "output_type": "stream",
          "text": [
            "[0, 2, 4, 6, 8]\n",
            "[0, 15, 30, 45, 60, 75, 90]\n",
            "[15, 13, 11, 9, 7, 5, 3, 1]\n",
            "['xx', 'xx', 'xx', 'xx', 'xx']\n",
            "['string5', 'string4', 'string3', 'string2', 'string1']\n",
            "['1', 2, 3.0, 4]\n",
            "[3, 13, 23, 30, 31, 32, 33, 34, 35, 36, 37, 38, 39, 43, 53, 63, 73, 83, 93]\n"
          ],
          "name": "stdout"
        }
      ]
    },
    {
      "cell_type": "code",
      "metadata": {
        "colab": {
          "base_uri": "https://localhost:8080/"
        },
        "id": "7LBthPDc-WTl",
        "outputId": "d42e2547-a9d2-4d10-d2ca-bbb0416de9a3"
      },
      "source": [
        "#3 List Manipulation and Slicing\r\n",
        "\r\n",
        "list = [i for i in range(0, 50)]\r\n",
        "\r\n",
        "#a\r\n",
        "def x3a(x):\r\n",
        "  return x[0], x[1:]\r\n",
        "\r\n",
        "print(x3a(list))\r\n",
        "\r\n",
        "#b\r\n",
        "def x3b(x):\r\n",
        "  sum = x[0] + x[-1]\r\n",
        "  diff = x[0] - x[-1]\r\n",
        "  mod = x[0] % x[1]\r\n",
        "  return sum, diff, mod\r\n",
        "\r\n",
        "print(x3b(list))\r\n",
        "\r\n",
        "\r\n",
        "#c\r\n",
        "def x3c(x):\r\n",
        "  total = 0\r\n",
        "  for i in x:\r\n",
        "    total += i\r\n",
        "  return total\r\n",
        "\r\n",
        "print(x3c(list))\r\n",
        "\r\n",
        "#d\r\n",
        "def x4d(x):\r\n",
        "  odd = [x[i] for i in range(0, len(x)) if i%2 != 0]\r\n",
        "  return odd\r\n",
        "\r\n",
        "print(x4d(list))\r\n",
        "\r\n",
        "#e\r\n",
        "def x4e(x):\r\n",
        "  return x[-1:0:-1]\r\n",
        "\r\n",
        "print(x4e(list))\r\n",
        "\r\n",
        "#f\r\n",
        "def x4f(x):\r\n",
        "  return x[::-1]\r\n",
        "\r\n",
        "print(x4f(list))\r\n",
        "\r\n",
        "#g\r\n",
        "def x4g(x):\r\n",
        "  oddEven = [0 if i%2 !=0 else 1 for i in range(0, len(x))]\r\n",
        "  return oddEven\r\n",
        "  \r\n",
        "print(x4g(list))\r\n",
        "\r\n",
        "\r\n"
      ],
      "execution_count": 36,
      "outputs": [
        {
          "output_type": "stream",
          "text": [
            "(0, [1, 2, 3, 4, 5, 6, 7, 8, 9, 10, 11, 12, 13, 14, 15, 16, 17, 18, 19, 20, 21, 22, 23, 24, 25, 26, 27, 28, 29, 30, 31, 32, 33, 34, 35, 36, 37, 38, 39, 40, 41, 42, 43, 44, 45, 46, 47, 48, 49])\n",
            "(49, -49, 0)\n",
            "1225\n",
            "[1, 3, 5, 7, 9, 11, 13, 15, 17, 19, 21, 23, 25, 27, 29, 31, 33, 35, 37, 39, 41, 43, 45, 47, 49]\n",
            "[49, 48, 47, 46, 45, 44, 43, 42, 41, 40, 39, 38, 37, 36, 35, 34, 33, 32, 31, 30, 29, 28, 27, 26, 25, 24, 23, 22, 21, 20, 19, 18, 17, 16, 15, 14, 13, 12, 11, 10, 9, 8, 7, 6, 5, 4, 3, 2, 1]\n",
            "[49, 48, 47, 46, 45, 44, 43, 42, 41, 40, 39, 38, 37, 36, 35, 34, 33, 32, 31, 30, 29, 28, 27, 26, 25, 24, 23, 22, 21, 20, 19, 18, 17, 16, 15, 14, 13, 12, 11, 10, 9, 8, 7, 6, 5, 4, 3, 2, 1, 0]\n",
            "[1, 0, 1, 0, 1, 0, 1, 0, 1, 0, 1, 0, 1, 0, 1, 0, 1, 0, 1, 0, 1, 0, 1, 0, 1, 0, 1, 0, 1, 0, 1, 0, 1, 0, 1, 0, 1, 0, 1, 0, 1, 0, 1, 0, 1, 0, 1, 0, 1, 0]\n"
          ],
          "name": "stdout"
        }
      ]
    },
    {
      "cell_type": "code",
      "metadata": {
        "colab": {
          "base_uri": "https://localhost:8080/"
        },
        "id": "OR6CTeg6oy5C",
        "outputId": "d7fb924c-5e34-4ab3-d5cd-0139e19daf4b"
      },
      "source": [
        "#4 Dictionary creation and manipulation\r\n",
        "\r\n",
        "D = {}\r\n",
        "\r\n",
        "#a\r\n",
        "for i in range(1, 11):     \r\n",
        "  D[i] = str(i)\r\n",
        "\r\n",
        "print(D)\r\n",
        "\r\n",
        "#b\r\n",
        "for key in D:\r\n",
        "  if(key <= 5):\r\n",
        "    print(D[key])\r\n",
        "\r\n",
        "#c\r\n",
        "def dget(D, key):\r\n",
        "  return key in D.keys()\r\n",
        "\r\n",
        "print(dget(D, 1))\r\n",
        "\r\n",
        "#d\r\n",
        "def dget2(D, key):\r\n",
        "  for key in D.keys():\r\n",
        "    return D.key()\r\n",
        "\r\n",
        "print(dget(D, 11))\r\n"
      ],
      "execution_count": 121,
      "outputs": [
        {
          "output_type": "stream",
          "text": [
            "{1: '1', 2: '2', 3: '3', 4: '4', 5: '5', 6: '6', 7: '7', 8: '8', 9: '9', 10: '10'}\n",
            "1\n",
            "2\n",
            "3\n",
            "4\n",
            "5\n",
            "True\n",
            "False\n"
          ],
          "name": "stdout"
        }
      ]
    },
    {
      "cell_type": "code",
      "metadata": {
        "id": "6Ks2H_XVyv-l"
      },
      "source": [
        "#5 Iteration\r\n"
      ],
      "execution_count": null,
      "outputs": []
    }
  ]
}