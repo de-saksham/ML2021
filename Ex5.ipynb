{
  "nbformat": 4,
  "nbformat_minor": 0,
  "metadata": {
    "colab": {
      "name": "Exe5.ipynb",
      "provenance": [],
      "authorship_tag": "ABX9TyPeBVnaGvGeaPkA0QXboOYn"
    },
    "kernelspec": {
      "name": "python3",
      "display_name": "Python 3"
    }
  },
  "cells": [
    {
      "cell_type": "code",
      "metadata": {
        "id": "oSQA1hZwPLZ4"
      },
      "source": [
        "#importing data and required packages\r\n",
        "\r\n",
        "import numpy as np\r\n",
        "import tensorflow as tf\r\n",
        "import matplotlib.pyplot as plt\r\n",
        "import pickle, gzip\r\n",
        "with gzip.open('MNIST.pkl.gz') as f:\r\n",
        "  data = pickle.load(f)\r\n",
        "  traind = data[\"data_train\"].reshape(-1, 28, 28)\r\n",
        "  trainl = data[\"labels_train\"]\r\n"
      ],
      "execution_count": 19,
      "outputs": []
    },
    {
      "cell_type": "code",
      "metadata": {
        "colab": {
          "base_uri": "https://localhost:8080/",
          "height": 265
        },
        "id": "sIi3tmgvPyd0",
        "outputId": "d1646ff3-efc3-4379-b6d8-6baa609fe0b8"
      },
      "source": [
        "#1. numpy & matplotlib with MNIST\r\n",
        "\r\n",
        "#a - scatter plot for image-wise pixel mean\r\n",
        "x = np.arange(0, 55000)\r\n",
        "img_wise_pix = traind.mean(axis=(1,2))\r\n",
        "plt.scatter(x, img_wise_pix)\r\n",
        "plt.show()\r\n"
      ],
      "execution_count": 6,
      "outputs": [
        {
          "output_type": "display_data",
          "data": {
            "image/png": "[encoded data removed]",
            "text/plain": [
              "<Figure size 432x288 with 1 Axes>"
            ]
          },
          "metadata": {
            "tags": [],
            "needs_background": "light"
          }
        }
      ]
    },
    {
      "cell_type": "code",
      "metadata": {
        "colab": {
          "base_uri": "https://localhost:8080/",
          "height": 149
        },
        "id": "F_bUMryaQdcE",
        "outputId": "e90a85cd-33d7-4ff7-db9c-4ff08cc5aa13"
      },
      "source": [
        "#b copy out all the samples whose mean over pixel is > 0.3\r\n",
        "\r\n",
        "mean = traind.mean(axis=(1,2))\r\n",
        "mask = mean > 0.3\r\n",
        "copy_data = traind[mask]\r\n",
        "fig = plt.figure()\r\n",
        "for i in range(1,4):\r\n",
        "  fig.add_subplot(1,3,i)\r\n",
        "  plt.imshow(copy_data[i])\r\n",
        "plt.show()\r\n"
      ],
      "execution_count": 13,
      "outputs": [
        {
          "output_type": "display_data",
          "data": {
            "image/png": "[encoded data removed]",
            "text/plain": [
              "<Figure size 432x288 with 3 Axes>"
            ]
          },
          "metadata": {
            "tags": [],
            "needs_background": "light"
          }
        }
      ]
    },
    {
      "cell_type": "code",
      "metadata": {
        "colab": {
          "base_uri": "https://localhost:8080/",
          "height": 265
        },
        "id": "6y9jyjGgSBfS",
        "outputId": "3124aec6-37eb-4aff-a704-e70acb0cc472"
      },
      "source": [
        "#c compute average image and display it\r\n",
        "\r\n",
        "avg_img = traind.mean(axis=0)\r\n",
        "plt.imshow(avg_img)\r\n",
        "plt.show()"
      ],
      "execution_count": 15,
      "outputs": [
        {
          "output_type": "display_data",
          "data": {
            "image/png": "[encoded data removed]",
            "text/plain": [
              "<Figure size 432x288 with 1 Axes>"
            ]
          },
          "metadata": {
            "tags": [],
            "needs_background": "light"
          }
        }
      ]
    },
    {
      "cell_type": "code",
      "metadata": {
        "colab": {
          "base_uri": "https://localhost:8080/",
          "height": 265
        },
        "id": "cJYaqJ8ZSR69",
        "outputId": "fcc6c514-3812-4d35-cda2-a594323e4229"
      },
      "source": [
        "#d compute the average image for samples of class 5 and display it\r\n",
        "\r\n",
        "scalarClass5 = trainl.argmax(axis=1)\r\n",
        "mask = (scalarClass5 == 5)\r\n",
        "avg_img5 = traind[mask].mean(axis=0)\r\n",
        "plt.imshow(avg_img5)\r\n",
        "plt.show()"
      ],
      "execution_count": 18,
      "outputs": [
        {
          "output_type": "display_data",
          "data": {
            "image/png": "[encoded data removed]",
            "text/plain": [
              "<Figure size 432x288 with 1 Axes>"
            ]
          },
          "metadata": {
            "tags": [],
            "needs_background": "light"
          }
        }
      ]
    },
    {
      "cell_type": "code",
      "metadata": {
        "colab": {
          "base_uri": "https://localhost:8080/"
        },
        "id": "dDtYmHIPU3Su",
        "outputId": "3385a4cf-0a7e-41a2-a314-37a7f099c729"
      },
      "source": [
        "# Implementing Softmax with numpy and tensorFlow\r\n",
        "\r\n",
        "#using numpy\r\n",
        "def S(x):\r\n",
        "  e = np.exp(x)\r\n",
        "  return e/e.sum()\r\n",
        "\r\n",
        "#using tensorFlow\r\n",
        "def ST(x):\r\n",
        "  e = tf.math.exp(x)\r\n",
        "  return e/tf.reduce_sum(e)\r\n",
        "\r\n",
        "x1 = tf.constant([-1., -1., 5.])\r\n",
        "x2 = tf.constant([1., 1., 2.])\r\n",
        "\r\n",
        "print(\"Softmax using Numpy:\", S(x1))\r\n",
        "print(\"Softmax using Numpy:\", S(x2))\r\n",
        "\r\n",
        "print(\"---------------------\")\r\n",
        "\r\n",
        "print(\"Softmax using TensorFlow:\", ST(x1).numpy())\r\n",
        "print(\"Softmax using TensorFlow:\", ST(x2).numpy())\r\n"
      ],
      "execution_count": 25,
      "outputs": [
        {
          "output_type": "stream",
          "text": [
            "Softmax using Numpy: [0.00246652 0.00246652 0.99506694]\n",
            "Softmax using Numpy: [0.21194157 0.21194157 0.57611686]\n",
            "---------------------\n",
            "Softmax using TensorFlow: [0.00246652 0.00246652 0.99506694]\n",
            "Softmax using TensorFlow: [0.21194156 0.21194156 0.5761169 ]\n"
          ],
          "name": "stdout"
        }
      ]
    },
    {
      "cell_type": "code",
      "metadata": {
        "colab": {
          "base_uri": "https://localhost:8080/"
        },
        "id": "Fqjj-HgiY6Hy",
        "outputId": "21e9e3f0-8606-44de-d687-67e877acc7bd"
      },
      "source": [
        "#Implementing cross-entropy\r\n",
        "\r\n",
        "#using numpy\r\n",
        "def CE(y, t):\r\n",
        "  kstar = np.argmax(t)\r\n",
        "  return -math.log(y[kstar])\r\n",
        "\r\n",
        "#alternate numpy\r\n",
        "# return np.sum(-(np.log(y)*t))\r\n",
        "\r\n",
        "#using tensorFlow\r\n",
        "def CET(y, t):\r\n",
        "  return tf.reduce_sum(-tf.math.log(y)*t)\r\n",
        "\r\n",
        "t = tf.constant([0., 0., 1.])\r\n",
        "y1 = tf.constant([0.1, 0.1, 0.8])\r\n",
        "y2 = tf.constant([0.3, 0.3, 0.4])\r\n",
        "y3 = tf.constant([0.8, 0.1, 0.1])\r\n",
        "\r\n",
        "print(\"CrossEntropy using Numpy:\", CE(y1, t))\r\n",
        "print(\"CrossEntropy using Numpy:\", CE(y2, t))\r\n",
        "print(\"CrossEntropy using Numpy:\", CE(y3, t))\r\n",
        "\r\n",
        "print(\"---------------------\")\r\n",
        "\r\n",
        "print(\"CrossEntropy using TensorFlow:\", CET(y1, t).numpy())\r\n",
        "print(\"CrossEntropy using TensorFlow:\", CET(y2, t).numpy())\r\n",
        "print(\"CrossEntropy using TensorFlow:\", CET(y3, t).numpy())"
      ],
      "execution_count": 47,
      "outputs": [
        {
          "output_type": "stream",
          "text": [
            "CrossEntropy using Numpy: 0.22314353\n",
            "CrossEntropy using Numpy: 0.9162907\n",
            "CrossEntropy using Numpy: 2.3025851\n",
            "---------------------\n",
            "CrossEntropy using TensorFlow: 0.22314353\n",
            "CrossEntropy using TensorFlow: 0.9162907\n",
            "CrossEntropy using TensorFlow: 2.3025851\n"
          ],
          "name": "stdout"
        }
      ]
    }
  ]
}