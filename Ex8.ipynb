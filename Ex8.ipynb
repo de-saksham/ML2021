{
  "nbformat": 4,
  "nbformat_minor": 0,
  "metadata": {
    "colab": {
      "name": "Ex8-Final.ipynb",
      "provenance": [],
      "authorship_tag": "ABX9TyOeaDzS6jVl5euv+w7yjkJU"
    },
    "kernelspec": {
      "name": "python3",
      "display_name": "Python 3"
    }
  },
  "cells": [
    {
      "cell_type": "code",
      "metadata": {
        "colab": {
          "base_uri": "https://localhost:8080/"
        },
        "id": "jBVzHhlJUX8r",
        "outputId": "85c65a46-e9a7-4c21-e27d-9808b41f3b8f"
      },
      "source": [
        "import tensorflow as tf\r\n",
        "import numpy as np\r\n",
        "\r\n",
        "def f(x):\r\n",
        "  return tf.reduce_sum(tf.pow(tf.stack([x,x,x,x]), [1,2,3,4]))\r\n",
        "\r\n",
        "\r\n",
        "print(f(0), f(1), f(2))\r\n",
        "\r\n",
        "x = tf.Variable([-1], dtype=tf.float64)\r\n",
        "with tf.GradientTape() as gt:\r\n",
        "  y = f(x)\r\n",
        "fprime = gt.gradient(y, x)\r\n",
        "print(fprime)\r\n",
        "\r\n",
        "x = tf.Variable(-1, dtype=tf.float64)\r\n",
        "with tf.GradientTape() as gt:\r\n",
        "  y = f(x)\r\n",
        "fprime2 = tf.pow(gt.gradient(y, x), 2)\r\n",
        "print(fprime2)"
      ],
      "execution_count": null,
      "outputs": [
        {
          "output_type": "stream",
          "text": [
            "tf.Tensor(0, shape=(), dtype=int32) tf.Tensor(4, shape=(), dtype=int32) tf.Tensor(30, shape=(), dtype=int32)\n",
            "tf.Tensor([-2.], shape=(1,), dtype=float64)\n",
            "tf.Tensor([64.], shape=(1,), dtype=float64)\n"
          ],
          "name": "stdout"
        }
      ]
    },
    {
      "cell_type": "code",
      "metadata": {
        "colab": {
          "base_uri": "https://localhost:8080/"
        },
        "id": "Hs2kJ2M_Wud3",
        "outputId": "2d9977f1-c52e-4b5e-b0a4-bde2780263f2"
      },
      "source": [
        "# vector - scalar\r\n",
        "\r\n",
        "def f(x):\r\n",
        "  return tf.reduce_sum(tf.pow(x, 3))\r\n",
        "\r\n",
        "\r\n",
        "#a\r\n",
        "x1 = tf.constant([1., 2., 3.], dtype=tf.float64)\r\n",
        "x2 = tf.constant([2., 0., 2.], dtype=tf.float64)\r\n",
        "\r\n",
        "print(f(x1), f(x2))\r\n",
        "\r\n",
        "#b\r\n",
        "x = tf.Variable(initial_value=[0, 0, 0], dtype=tf.float64)\r\n",
        "x.assign(x1)\r\n",
        "with tf.GradientTape() as gt:\r\n",
        "  y = f(x)\r\n",
        "gradf = gt.gradient(y, x)\r\n",
        "print(gradf.numpy())\r\n",
        "\r\n",
        "#c\r\n",
        "x = tf.Variable(initial_value=[0,0,0], dtype=tf.float64)\r\n",
        "x.assign(x2)\r\n",
        "with tf.GradientTape() as gt:\r\n",
        "  y = f(x)\r\n",
        "fprime2 = gt.gradient(y, x)\r\n",
        "print(fprime2.numpy()[0])"
      ],
      "execution_count": null,
      "outputs": [
        {
          "output_type": "stream",
          "text": [
            "tf.Tensor(36.0, shape=(), dtype=float64) tf.Tensor(16.0, shape=(), dtype=float64)\n",
            "[ 3. 12. 27.]\n",
            "12.0\n"
          ],
          "name": "stdout"
        }
      ]
    },
    {
      "cell_type": "code",
      "metadata": {
        "colab": {
          "base_uri": "https://localhost:8080/"
        },
        "id": "h85xDBj5bdkZ",
        "outputId": "22267ef7-df66-480b-b53e-bc8ce57c787c"
      },
      "source": [
        "#3 Vector-Vector chain rule in TF\r\n",
        "\r\n",
        "#a\r\n",
        "W = tf.constant([1, 2, -1, 1, 0, 1], dtype=tf.float64, shape=(3,2))\r\n",
        "\r\n",
        "def f(x):\r\n",
        "  return tf.matmul(W, x)\r\n",
        "\r\n",
        "def g(x):\r\n",
        "  return tf.reduce_sum(x)\r\n",
        "\r\n",
        "x1 = tf.constant([1, 2], dtype=tf.float64, shape=(2,1))\r\n",
        "x2 = tf.constant([2, 0], dtype=tf.float64, shape=(2,1))\r\n",
        "\r\n",
        "h = g(f(x1))\r\n",
        "h1 = g(f(x2))\r\n",
        "print(h, h1)\r\n",
        "\r\n",
        "#b\r\n",
        "x = tf.Variable(initial_value=x1, dtype=tf.float64)\r\n",
        "with tf.GradientTape() as gt:\r\n",
        "  y = g(f(x))\r\n",
        "frpime = gt.gradient(y, x)\r\n",
        "print(frpime.numpy())\r\n",
        "\r\n",
        "#c\r\n",
        "with tf.GradientTape() as gt:\r\n",
        "  gt.watch(W)\r\n",
        "  y = g(f(x))\r\n",
        "mat = gt.gradient(y, W)\r\n",
        "print(mat.numpy())\r\n",
        "\r\n"
      ],
      "execution_count": null,
      "outputs": [
        {
          "output_type": "stream",
          "text": [
            "tf.Tensor(8.0, shape=(), dtype=float64) tf.Tensor(0.0, shape=(), dtype=float64)\n",
            "[[0.]\n",
            " [4.]]\n",
            "[[1. 2.]\n",
            " [1. 2.]\n",
            " [1. 2.]]\n"
          ],
          "name": "stdout"
        }
      ]
    }
  ]
}
